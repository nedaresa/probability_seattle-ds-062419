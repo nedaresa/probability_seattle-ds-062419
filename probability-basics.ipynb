{
 "cells": [
  {
   "cell_type": "markdown",
   "metadata": {
    "slideshow": {
     "slide_type": "slide"
    }
   },
   "source": [
    "# Probabilty Fundamentals\n",
    "\n",
    "![xkcd](increased_risk_2x.png)\n",
    "\n",
    "[xkcd comic 1252](https://xkcd.com/1252/)"
   ]
  },
  {
   "cell_type": "markdown",
   "metadata": {
    "slideshow": {
     "slide_type": "slide"
    }
   },
   "source": [
    "Learning goals for today:\n",
    "- Develop a definition of probability beyond coin tosses  \n",
    "- Describe set theory and its terminology\n",
    "- Define the size of sets with permutations and combinations\n"
   ]
  },
  {
   "cell_type": "markdown",
   "metadata": {
    "slideshow": {
     "slide_type": "slide"
    }
   },
   "source": [
    "## Learning Goal 1:\n",
    "\n",
    "### Opening Task:\n",
    "- In groups of 3, take the following 5 scenarios.\n",
    "- Each group will make a list of commonalities between the five scenarios\n",
    "- The groups should then consolidate a list of new terms on the board"
   ]
  },
  {
   "cell_type": "markdown",
   "metadata": {
    "slideshow": {
     "slide_type": "slide"
    }
   },
   "source": [
    "### Scenario 1:\n",
    "\n",
    "> Adequate prediction of the concrete bridge deck deterioration rate is necessary for maintenance and rehabilitation decisions. The stochastic deterioration of bridge decks can be most accurately modeled with a time-based probabilistic approach. In this work, a semi-Markov time-based model, based on accelerated failure time (AFT) Weibull fitted-parameters, was used to estimate the transition probabilities and sojourn times for the deterioration of concrete bridge decks. Approximately 30 years of in-service performance data for over 22,000 bridges in Pennsylvania were used in the model development. The proposed approach attempts to relate deck deterioration rates to various explanatory factors, such as structural system attributes, average daily traffic (ADT), route type, and environmental conditions. The following factors were found to be statistically significant with respect to the rate of bridge deck deterioration: type of rebar protection, continuous versus simply supported spans, overall bridge deck length, number of spans, bridge location, type of overlay, and whether or not the deck was located on interstate routes. Furthermore, the effects of remediation on bridge deck deterioration and service life were also evaluated and quantified, based on in-service performance data.\n",
    "\n",
    "\n",
    "[Stochastic Analysis and Time-Based Modeling of Concrete Bridge Deck Deterioration](https://ascelibrary.org/doi/10.1061/(ASCE)BE.1943-5592.0001285?utm_source=TrendMD&utm_medium=cpc&utm_campaign=Journal_of_Bridge_Engineering_TrendMD_0&)"
   ]
  },
  {
   "cell_type": "markdown",
   "metadata": {
    "slideshow": {
     "slide_type": "slide"
    }
   },
   "source": [
    "### Scenario 2:\n",
    "\n",
    ">Occupancy has significant impacts on building performance. However, in current building performance simulation programs, occupancy inputs are static and lack diversity, contributing to discrepancies between the simulated and actual building performance. This paper presents an Occupancy Simulator that simulates the stochastic behavior of occupant presence and movement in buildings, capturing the spatial and temporal occupancy diversity. Each occupant and each space in the building are explicitly simulated as an agent with their profiles of stochastic behaviors. The occupancy behaviors are represented with three types of models: (1) the status transition events (e.g., first arrival in office) simulated with probability distribution model, (2) the random moving events (e.g., from one office to another) simulated with a homogeneous Markov chain model, and (3) the meeting events simulated with a new stochastic model. A hierarchical data model was developed for the Occupancy Simulator, which reduces the amount of data input by using the concepts of occupant types and space types. Finally, a case study of a small office building is presented to demonstrate the use of the Simulator to generate detailed annual sub-hourly occupant schedules for individual spaces and the whole building. The Simulator is a web application freely available to the public and capable of performing a detailed stochastic simulation of occupant presence and movement in buildings. Future work includes enhancements in the meeting event model, consideration of personal absent days, verification and validation of the simulated occupancy results, and expansion for use with residential buildings.\n",
    "\n",
    "[An agent-based stochastic Occupancy Simulator](https://link.springer.com/article/10.1007/s12273-017-0379-7?utm_source=TrendMD&utm_medium=cpc&utm_campaign=Building_Simulation_TrendMD_1)"
   ]
  },
  {
   "cell_type": "markdown",
   "metadata": {
    "slideshow": {
     "slide_type": "slide"
    }
   },
   "source": [
    "## Scenario 3\n",
    "\n",
    "> Paul has the option between a high deductible plan and a low deductible plan for health insurance. \n",
    "If Paul chooses the low deductible plan he will pay the first 1000 dollars of the any medical costs. The low deductible plan costs 8000 dollars.<br>\n",
    "> If Paul chooses the high deductible plan he will pay the first 2500 dollars of any medical costs. The high deductible plan costs 7500 dollars. <br>\n",
    "> Paul found a table of data on the frequency of medical costs. Based on this table, which should he choose?\n",
    "\n",
    "| Cost | Probability|\n",
    "|:----:|:-------:|\n",
    "|0 | 30% |\n",
    "|1000 | 25%|\n",
    "|4000 | 20% |\n",
    "|7000 | 20% |\n",
    "|15000 | 5% |"
   ]
  },
  {
   "cell_type": "code",
   "execution_count": null,
   "metadata": {},
   "outputs": [],
   "source": []
  },
  {
   "cell_type": "markdown",
   "metadata": {
    "slideshow": {
     "slide_type": "slide"
    }
   },
   "source": [
    "### Scenario 4\n",
    "\n",
    ">A drawer contains red socks and black socks. When two socks are drawn at random, the probability that both are red is 1/2. <br> \n",
    ">a) How small can the number of socks in the drawer be?<br>\n",
    ">b) How small if the number of black socks is even?\n",
    "\n",
    "[the sock problem](https://engineering-math.org/2017/05/10/the-sock-drawer-probability-and-statistics-problem/)"
   ]
  },
  {
   "cell_type": "code",
   "execution_count": null,
   "metadata": {},
   "outputs": [],
   "source": []
  },
  {
   "cell_type": "markdown",
   "metadata": {
    "slideshow": {
     "slide_type": "slide"
    }
   },
   "source": [
    "### Scenario 5\n",
    "\n",
    ">Among engineers, risk is defined as a product of probability of the occurrence of an undesired event and the expected consequences in terms of human, economic, and environmental loss. These two components are equally important; therefore, the appropriate estimation of these values is a matter of great significance. This paper deals with one of these two components—the assessment of the probability of vessels colliding, presenting a new approach for the geometrical probability of collision estimation on the basis of maritime and aviation experience. The geometrical model that is being introduced in this paper takes into account registered vessel traffic data and generalised vessel dynamics and uses advanced statistical and optimisation methods (Monte Carlo and genetic algorithms). The results obtained from the model are compared with registered data for maritime traffic in the Gulf of Finland and a good agreement is found.\n",
    "\n",
    "[Probability modelling of vessel collisions](https://www.sciencedirect.com/science/article/pii/S0951832010000256)"
   ]
  },
  {
   "cell_type": "markdown",
   "metadata": {
    "slideshow": {
     "slide_type": "slide"
    }
   },
   "source": [
    "__What are probabilities?__<br>\n",
    "Probability theory is the study of the frequency of a given event occuring with respect to all possible events. In this section we'll discuss the event space & sets, calculate the probability of events, and discuss the relevance of probability theory in data science. <br>"
   ]
  },
  {
   "cell_type": "markdown",
   "metadata": {
    "slideshow": {
     "slide_type": "slide"
    }
   },
   "source": [
    "__What should I care about probabilities?__<br>\n",
    "Studying probabilities allows us to make better and more informed decisions, based on data previously collected. For example, understanding the fact that it is nearly impossible for us to ever win the lottery from a probabilistically stand point deters us from ever using that as a source of income. <br>\n",
    "Probability theory also lies at the heart of making inferences using our data, which is what statistics is all about!"
   ]
  },
  {
   "cell_type": "markdown",
   "metadata": {
    "slideshow": {
     "slide_type": "slide"
    }
   },
   "source": [
    "## II. Set Theory\n",
    "In probability theory, a set is a well-defined collection of objects.\n",
    "If an element $x$ belongs to a set $S$, then you'd write $x \\in S$. On the other hand, if $x$ does not belong to a set $S$, then you'd write $x\\notin S$."
   ]
  },
  {
   "cell_type": "markdown",
   "metadata": {
    "slideshow": {
     "slide_type": "slide"
    }
   },
   "source": [
    "__2.1 Subsets__ <br>\n",
    "Set $T$ is a subset of set $S$ if every element in set $T$ is also in set $S$. The mathematical notation for a subset is $T \\subset S$.\n",
    "\n",
    "The empty set, $\\emptyset$ or { }, is trivially a subset of every set. (Question: Is there only one empty  set? How do we know?)\n",
    "\n",
    "__2.2 Set Operations__ <br>\n",
    "\n",
    "    - Union of Two Sets: The union of 2 sets S and T is the set of elements of either S or T, or in both.\n",
    "    \n",
    "    - The intersection of two sets S and T is the set that contains all elements of S that also belong to T."
   ]
  },
  {
   "cell_type": "markdown",
   "metadata": {
    "slideshow": {
     "slide_type": "slide"
    }
   },
   "source": [
    "We are trying to create rooming arrangements based on staff interest for a staff trip. <br>\n",
    "Who should room with whom based on interests?\n",
    "\n",
    "This is another way to look at sets.<br>\n",
    "And we can still use the math!"
   ]
  },
  {
   "cell_type": "code",
   "execution_count": 1,
   "metadata": {
    "slideshow": {
     "slide_type": "fragment"
    }
   },
   "outputs": [],
   "source": [
    "Robin = {\"art\", \"traveling\", \"wine\", \"doodling\", \"tech\", \"gadgets\"}\n",
    "Rob = {\"rock-climbing\", \"traveling\", \"dad jokes\", \"ice cream\"}\n",
    "Alison = {\"wine\", \"traveling\", \"schitts creek\", \"dogs\"}\n",
    "Su = {\"schitts creek\", \"dogs\", \"tarot card reading\", \"croquet\", \"taxonomy\"}\n",
    "Molly = {\"wine\", \"ice cream\", \"dogs\", \"zookeeping\", \"traveling\"}"
   ]
  },
  {
   "cell_type": "code",
   "execution_count": 2,
   "metadata": {},
   "outputs": [
    {
     "data": {
      "text/plain": [
       "{'traveling', 'wine'}"
      ]
     },
     "execution_count": 2,
     "metadata": {},
     "output_type": "execute_result"
    }
   ],
   "source": [
    "Robin.intersection(Alison)"
   ]
  },
  {
   "cell_type": "code",
   "execution_count": 3,
   "metadata": {},
   "outputs": [
    {
     "data": {
      "text/plain": [
       "{'traveling'}"
      ]
     },
     "execution_count": 3,
     "metadata": {},
     "output_type": "execute_result"
    }
   ],
   "source": [
    "Rob.intersection(Alison)"
   ]
  },
  {
   "cell_type": "code",
   "execution_count": 4,
   "metadata": {},
   "outputs": [
    {
     "data": {
      "text/plain": [
       "{'dogs', 'schitts creek'}"
      ]
     },
     "execution_count": 4,
     "metadata": {},
     "output_type": "execute_result"
    }
   ],
   "source": [
    "Alison.intersection(Su)"
   ]
  },
  {
   "cell_type": "code",
   "execution_count": 5,
   "metadata": {},
   "outputs": [
    {
     "data": {
      "text/plain": [
       "{'croquet',\n",
       " 'dogs',\n",
       " 'ice cream',\n",
       " 'schitts creek',\n",
       " 'tarot card reading',\n",
       " 'taxonomy',\n",
       " 'traveling',\n",
       " 'wine',\n",
       " 'zookeeping'}"
      ]
     },
     "execution_count": 5,
     "metadata": {},
     "output_type": "execute_result"
    }
   ],
   "source": [
    "Su.union(Molly)"
   ]
  },
  {
   "cell_type": "code",
   "execution_count": 6,
   "metadata": {},
   "outputs": [
    {
     "data": {
      "text/plain": [
       "{'traveling'}"
      ]
     },
     "execution_count": 6,
     "metadata": {},
     "output_type": "execute_result"
    }
   ],
   "source": [
    "Molly.intersection(Rob).intersection(Robin)"
   ]
  },
  {
   "cell_type": "code",
   "execution_count": 7,
   "metadata": {},
   "outputs": [
    {
     "data": {
      "text/plain": [
       "{'dogs', 'schitts creek'}"
      ]
     },
     "execution_count": 7,
     "metadata": {},
     "output_type": "execute_result"
    }
   ],
   "source": [
    "Alison.intersection(Su)"
   ]
  },
  {
   "cell_type": "markdown",
   "metadata": {
    "slideshow": {
     "slide_type": "slide"
    }
   },
   "source": [
    "**Task**:\n",
    "\n",
    "- In groups of 2-3, draw the venn diagram of interests of each person and how they overlap. \n",
    "- Then try the set notation learned in the learn.co curriculum to find the overlap answers with python\n"
   ]
  },
  {
   "cell_type": "markdown",
   "metadata": {
    "slideshow": {
     "slide_type": "slide"
    }
   },
   "source": [
    "## Foundations of (Independent) Probabilities \n",
    "\n",
    "What's the probability that a staff person likes wine?\n",
    "\n",
    "That's a very specific probability example.\n",
    "\n",
    "But there are other applications and terminology that are important for probability. \n",
    "\n",
    "\n",
    "In this section, we will introduce you to the foundation of independent probability theory. Later on in the course, you will be introduced to concepts such as conditional probability and probability of dependent events."
   ]
  },
  {
   "cell_type": "markdown",
   "metadata": {
    "slideshow": {
     "slide_type": "slide"
    }
   },
   "source": [
    "__Terminology Alert__ \n",
    "- Random Variable\n",
    "    - A random variable is a variable whose outcome is the result of a random phenomenon which can take on different values\n",
    "    - A random variable can either be discrete or continuous\n",
    "        - __Discrete__ : the variable takes on integer values\n",
    "        - __Continous__ : can take on any values"
   ]
  },
  {
   "cell_type": "markdown",
   "metadata": {
    "slideshow": {
     "slide_type": "slide"
    }
   },
   "source": [
    "####  Probability of A and B \n",
    "<center>$P(A [and] B) = P(A) * P(B)$</center>\n",
    "\n",
    "What's the probability that a staff person likes wine *and* likes dogs?"
   ]
  },
  {
   "cell_type": "markdown",
   "metadata": {
    "slideshow": {
     "slide_type": "slide"
    }
   },
   "source": [
    "#### Probabilities of A or B\n",
    "<center>$P(A  [or]  B) = P(A) + P(B) - P(A  [and]  B)$</center>\n",
    "\n",
    "What's the probabilty that someone like ice cream *or* traveling?"
   ]
  },
  {
   "cell_type": "markdown",
   "metadata": {
    "slideshow": {
     "slide_type": "slide"
    }
   },
   "source": [
    "What happens when you have multiple events? "
   ]
  },
  {
   "cell_type": "markdown",
   "metadata": {
    "slideshow": {
     "slide_type": "fragment"
    }
   },
   "source": [
    "$ P(A [or] B [or] C) = P(A) + P(B) + P(C) - P(A [and] B) - P(A [and] C) - P(B [and] C) + P(A [and] B [and] C) $"
   ]
  },
  {
   "cell_type": "markdown",
   "metadata": {
    "slideshow": {
     "slide_type": "slide"
    }
   },
   "source": [
    "## Permutations & Combinations\n",
    "Help us define the full *set* of options related to a probability"
   ]
  },
  {
   "cell_type": "markdown",
   "metadata": {
    "slideshow": {
     "slide_type": "slide"
    }
   },
   "source": [
    "**Permutations**<br/>\n",
    "    ordering matters <br/>\n",
    "    how many different arrangements can you get out of a number of elements? <br/>\n",
    "        possible number of arrangements $r$ out of a total of $n$ elements is given by: $\\Large\\frac{n!}{(n – r)!}$ "
   ]
  },
  {
   "cell_type": "markdown",
   "metadata": {
    "slideshow": {
     "slide_type": "fragment"
    }
   },
   "source": [
    "```\n",
    "from itertools import permutations \n",
    "l = list(permutations(range(1, 4))) \n",
    "print(l)\n",
    "```"
   ]
  },
  {
   "cell_type": "markdown",
   "metadata": {},
   "source": [
    "#### Easiest Scenario:\n",
    "\n",
    "How many ways are there of arranging the letters in 'damico'?"
   ]
  },
  {
   "cell_type": "markdown",
   "metadata": {},
   "source": [
    "#### Intermediate Scenario:\n",
    "\n",
    "How many ways are there of arranging the letters in 'greg'?"
   ]
  },
  {
   "cell_type": "markdown",
   "metadata": {
    "slideshow": {
     "slide_type": "slide"
    }
   },
   "source": [
    "#### Tough Scenario:\n",
    "\n",
    "You are trying to break the code - to hack into the mainframe, and stop the KGB from launching US missiles remotely.\n",
    "\n",
    "You know the password is some 5 letter anagram of a subset of the word \"pochemuchka\"\n",
    "\n",
    "How many words potential passwords are there? i.e., how large is the **set** of password options?"
   ]
  },
  {
   "cell_type": "code",
   "execution_count": 8,
   "metadata": {},
   "outputs": [],
   "source": [
    "from math import factorial"
   ]
  },
  {
   "cell_type": "code",
   "execution_count": 10,
   "metadata": {},
   "outputs": [
    {
     "data": {
      "text/plain": [
       "24"
      ]
     },
     "execution_count": 10,
     "metadata": {},
     "output_type": "execute_result"
    }
   ],
   "source": [
    "factorial(4)"
   ]
  },
  {
   "cell_type": "code",
   "execution_count": 11,
   "metadata": {
    "slideshow": {
     "slide_type": "skip"
    }
   },
   "outputs": [],
   "source": [
    "from itertools import permutations \n",
    "l = list(permutations(\"pochemuchka\", 5)) "
   ]
  },
  {
   "cell_type": "code",
   "execution_count": 12,
   "metadata": {},
   "outputs": [
    {
     "data": {
      "text/plain": [
       "55440"
      ]
     },
     "execution_count": 12,
     "metadata": {},
     "output_type": "execute_result"
    }
   ],
   "source": [
    "len(l)"
   ]
  },
  {
   "cell_type": "code",
   "execution_count": 13,
   "metadata": {},
   "outputs": [
    {
     "data": {
      "text/plain": [
       "22050"
      ]
     },
     "execution_count": 13,
     "metadata": {},
     "output_type": "execute_result"
    }
   ],
   "source": [
    "len(set(l))"
   ]
  },
  {
   "cell_type": "markdown",
   "metadata": {
    "slideshow": {
     "slide_type": "slide"
    }
   },
   "source": [
    "What's the probability that the password starts with p?"
   ]
  },
  {
   "cell_type": "code",
   "execution_count": 15,
   "metadata": {
    "slideshow": {
     "slide_type": "skip"
    }
   },
   "outputs": [
    {
     "data": {
      "text/plain": [
       "360.0"
      ]
     },
     "execution_count": 15,
     "metadata": {},
     "output_type": "execute_result"
    }
   ],
   "source": []
  },
  {
   "cell_type": "markdown",
   "metadata": {
    "slideshow": {
     "slide_type": "slide"
    }
   },
   "source": [
    "**Combinations:** <br/>\n",
    "    ordering does not matter <br/>\n",
    "    how many different selections can you get out of number of elements? <br/>\n",
    "        possible number of selections $r$ out of a total of $n$ elements given by: $\\Large{n\\choose r} = \\frac{n!}{(r !)(n – r)!}$"
   ]
  },
  {
   "cell_type": "markdown",
   "metadata": {},
   "source": [
    "#### Easier Scenario:\n",
    "\n",
    "How many ways are there of choosing two students from a group of six?"
   ]
  },
  {
   "cell_type": "markdown",
   "metadata": {},
   "source": [
    "#### Harder Scenario:\n",
    "\n",
    "What are the chances of getting exactly 3 \"heads\" on 5 flips?\n",
    "\n",
    "--> We'll look at the binomial distribution tomorrow!"
   ]
  },
  {
   "cell_type": "code",
   "execution_count": 17,
   "metadata": {},
   "outputs": [],
   "source": [
    "from count_class import Counter"
   ]
  },
  {
   "cell_type": "code",
   "execution_count": 18,
   "metadata": {},
   "outputs": [],
   "source": [
    " c = Counter(arr='pochemuchka')"
   ]
  },
  {
   "cell_type": "code",
   "execution_count": 20,
   "metadata": {},
   "outputs": [
    {
     "data": {
      "text/plain": [
       "22050"
      ]
     },
     "execution_count": 20,
     "metadata": {},
     "output_type": "execute_result"
    }
   ],
   "source": [
    "c.calc(5,order =True)"
   ]
  },
  {
   "cell_type": "code",
   "execution_count": 22,
   "metadata": {},
   "outputs": [],
   "source": [
    "c2 = Counter(arr='tttuup')"
   ]
  },
  {
   "cell_type": "code",
   "execution_count": 24,
   "metadata": {},
   "outputs": [
    {
     "data": {
      "text/plain": [
       "5"
      ]
     },
     "execution_count": 24,
     "metadata": {},
     "output_type": "execute_result"
    }
   ],
   "source": [
    "c2.calc(3)"
   ]
  },
  {
   "cell_type": "code",
   "execution_count": 26,
   "metadata": {},
   "outputs": [
    {
     "data": {
      "text/plain": [
       "[{'t'}, {'t', 'u'}, {'p', 't'}, {'p', 't', 'u'}, {'p', 'u'}]"
      ]
     },
     "execution_count": 26,
     "metadata": {},
     "output_type": "execute_result"
    }
   ],
   "source": [
    "c2.final_list"
   ]
  },
  {
   "cell_type": "code",
   "execution_count": 27,
   "metadata": {},
   "outputs": [],
   "source": [
    "c2 = Counter(arr='tasdrp')"
   ]
  },
  {
   "cell_type": "code",
   "execution_count": 28,
   "metadata": {},
   "outputs": [
    {
     "data": {
      "text/plain": [
       "20"
      ]
     },
     "execution_count": 28,
     "metadata": {},
     "output_type": "execute_result"
    }
   ],
   "source": [
    "c2.calc(3)"
   ]
  },
  {
   "cell_type": "code",
   "execution_count": null,
   "metadata": {},
   "outputs": [],
   "source": []
  },
  {
   "cell_type": "code",
   "execution_count": null,
   "metadata": {},
   "outputs": [],
   "source": []
  }
 ],
 "metadata": {
  "kernelspec": {
   "display_name": "Python 3",
   "language": "python",
   "name": "python3"
  },
  "language_info": {
   "codemirror_mode": {
    "name": "ipython",
    "version": 3
   },
   "file_extension": ".py",
   "mimetype": "text/x-python",
   "name": "python",
   "nbconvert_exporter": "python",
   "pygments_lexer": "ipython3",
   "version": "3.7.3"
  }
 },
 "nbformat": 4,
 "nbformat_minor": 2
}
